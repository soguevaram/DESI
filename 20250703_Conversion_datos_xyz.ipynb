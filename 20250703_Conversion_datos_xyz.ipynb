{
 "cells": [
  {
   "cell_type": "markdown",
   "id": "94d1394a-26dc-42ec-a1df-890d2d077e67",
   "metadata": {},
   "source": [
    "<style>\n",
    "body {\n",
    "    font-size: 20pt !important;\n",
    "}\n",
    "\n",
    ".rendered_html {\n",
    "    font-size: 20pt !important;\n",
    "}\n",
    "\n",
    ".CodeMirror pre {\n",
    "    font-size: 20pt !important;\n",
    "}\n",
    "\n",
    ".output pre {\n",
    "    font-size: 20pt !important;\n",
    "}\n",
    "</style>\n"
   ]
  },
  {
   "cell_type": "markdown",
   "id": "c61037cf-6d2b-408d-840e-d6427fc49e80",
   "metadata": {},
   "source": [
    "<h2 style=\"font-size:24pt\"> Proyecto DESI</h2>\n",
    "\n",
    "<h2 style=\"font-size:24pt\"> Julio 3, 2025</h2>\n",
    "\n",
    "<p style=\"font-size:16pt\">\n",
    "Conversión de datos desde RAC, DEC y z a coordenadas esféricas y finalmente a coordenadas x,y y z.\n",
    "</p>\n"
   ]
  },
  {
   "cell_type": "markdown",
   "id": "d61193c0-f5f3-442b-856e-6b36b2bed956",
   "metadata": {},
   "source": [
    "## Data"
   ]
  },
  {
   "cell_type": "code",
   "execution_count": 104,
   "id": "3efb79ce-611d-4070-a96d-15e81378315e",
   "metadata": {},
   "outputs": [],
   "source": [
    "import numpy as np\n",
    "import matplotlib.pyplot as plt\n",
    "from astropy.table import Table\n",
    "from astropy.cosmology import Planck18\n",
    "from astropy.io import ascii\n",
    "import random"
   ]
  },
  {
   "cell_type": "code",
   "execution_count": 5,
   "id": "670abbe5-eaaf-46ac-a358-4ab771cfa942",
   "metadata": {},
   "outputs": [],
   "source": [
    "# original files are found here https://data.desi.lbl.gov/public/edr/vac/edr/lss/v2.0/LSScats/clustering/\n",
    "data_n = Table.read(\"https://data.desi.lbl.gov/public/edr/vac/edr/lss/v2.0/LSScats/clustering/LRG_N_clustering.dat.fits\")\n",
    "data_s = Table.read(\"https://data.desi.lbl.gov/public/edr/vac/edr/lss/v2.0/LSScats/clustering/LRG_S_clustering.dat.fits\")"
   ]
  },
  {
   "cell_type": "code",
   "execution_count": 100,
   "id": "153328ed-9f34-4d4e-b5f6-14b51a30d56a",
   "metadata": {},
   "outputs": [],
   "source": [
    "list_rand = list(range(18))\n",
    "rand_tables_n = {}\n",
    "\n",
    "for i in list_rand:\n",
    "    url = f\"https://data.desi.lbl.gov/public/edr/vac/edr/lss/v2.0/LSScats/clustering/LRG_N_{i}_clustering.ran.fits\"\n",
    "    rand_tables_n[f\"rand_{i}_n\"] = Table.read(url)"
   ]
  },
  {
   "cell_type": "code",
   "execution_count": 101,
   "id": "4b188f84-6ddd-496d-b785-95de33d640b0",
   "metadata": {},
   "outputs": [],
   "source": [
    "rand_tables_s = {}\n",
    "\n",
    "for i in list_rand:\n",
    "    url = f\"https://data.desi.lbl.gov/public/edr/vac/edr/lss/v2.0/LSScats/clustering/LRG_S_{i}_clustering.ran.fits\"\n",
    "    rand_tables_s[f\"rand_{i}_n\"] = Table.read(url)"
   ]
  },
  {
   "cell_type": "markdown",
   "id": "1d02c294-8987-4cdd-92f3-191e566f3231",
   "metadata": {},
   "source": [
    "<p style=\"font-size:16pt\">\n",
    "$$\\theta = 90 - \\delta$$\n",
    "$$\\varphi = -\\alpha$$\n",
    "$$ z = r [Mpc] $$"
   ]
  },
  {
   "cell_type": "code",
   "execution_count": 20,
   "id": "32200877-f239-4860-a1f9-437897366d30",
   "metadata": {},
   "outputs": [],
   "source": [
    "def esfericas(data):\n",
    "    data['theta']= 90 - data['DEC']\n",
    "    data['phi'] = - data['RA']\n",
    "    data['r'] = Planck18.comoving_distance(data['Z'])"
   ]
  },
  {
   "cell_type": "code",
   "execution_count": 21,
   "id": "8915f35a-c39d-4346-b684-b928dc022745",
   "metadata": {},
   "outputs": [],
   "source": [
    "esfericas(data_n)\n",
    "esfericas(data_s)"
   ]
  },
  {
   "cell_type": "markdown",
   "id": "a94e9135-87b3-4537-bc25-7d30c9c6ef51",
   "metadata": {},
   "source": [
    "<p style=\"font-size:16pt\">\n",
    "\\begin{align*}\n",
    "x &= r \\sin\\theta \\cos\\varphi \\\\\n",
    "y &= r \\sin\\theta \\sin\\varphi \\\\\n",
    "z &= r \\cos\\theta\n",
    "\\end{align*}\n"
   ]
  },
  {
   "cell_type": "code",
   "execution_count": 22,
   "id": "58839197-082d-4965-a83a-41a9051b8b29",
   "metadata": {},
   "outputs": [],
   "source": [
    "def cartesianas(data):\n",
    "    data['x'] = data['r']*np.sin(data['theta'])*np.cos(data['phi'])\n",
    "    data['y'] = data['r']*np.sin(data['theta'])*np.sin(data['phi'])\n",
    "    data['z'] = data['r']*np.cos(data['theta'])"
   ]
  },
  {
   "cell_type": "code",
   "execution_count": 23,
   "id": "b3d9eab8-e74a-4e3f-8898-1f46befd31e4",
   "metadata": {},
   "outputs": [],
   "source": [
    "cartesianas(data_n)\n",
    "cartesianas(data_s)"
   ]
  },
  {
   "cell_type": "code",
   "execution_count": 125,
   "id": "93d81a28-421d-4b8a-8802-92920fc40c94",
   "metadata": {},
   "outputs": [],
   "source": [
    "def save_file(number_rosette,data):\n",
    "    \n",
    "    #Choose random table\n",
    "    clave_aleatoria = random.choice(list(rand_tables_n.keys()))\n",
    "    rand_table = rand_tables_n[clave_aleatoria]\n",
    "\n",
    "    #Filter of the rosette\n",
    "    rosette = data[data['ROSETTE_NUMBER']==number_rosette]\n",
    "\n",
    "    #Choose random index of the random table according to the len of rosette table\n",
    "    len_rosette = len(rosette)\n",
    "    idx_random = np.random.choice(len(rand_table), size=len_rosette, replace=False)\n",
    "    rand_subset = rand_table[idx_random]\n",
    "\n",
    "    #Add columns of the othe coordinates\n",
    "    esfericas(rand_subset)\n",
    "    cartesianas(rand_subset)\n",
    "\n",
    "    #Filenames\n",
    "    filename_data = f'data_rosette/LRG_{number_rosette}_clustering_data.ecsv'\n",
    "    filename_rand = f'data_rosette/LRG_{number_rosette}_clustering_rand.ecsv'\n",
    "\n",
    "    #Write\n",
    "    ascii.write(rosette, filename_data, format='ecsv', overwrite=True)\n",
    "    ascii.write(rand_subset, filename_rand, format='ecsv', overwrite=True)"
   ]
  },
  {
   "cell_type": "code",
   "execution_count": 126,
   "id": "8acbc8f4-d135-4f75-8ef2-365f7c84ee4f",
   "metadata": {},
   "outputs": [],
   "source": [
    "#Save files north\n",
    "for i in set(data_n['ROSETTE_NUMBER']):\n",
    "    save_file(i,data_n)"
   ]
  },
  {
   "cell_type": "code",
   "execution_count": 127,
   "id": "f738aadd-b040-4ba0-9ae5-5c80c86b0d12",
   "metadata": {},
   "outputs": [],
   "source": [
    "#Save files south\n",
    "for i in set(data_s['ROSETTE_NUMBER']):\n",
    "    save_file(i,data_s)"
   ]
  }
 ],
 "metadata": {
  "kernelspec": {
   "display_name": "Python 3 (ipykernel)",
   "language": "python",
   "name": "python3"
  },
  "language_info": {
   "codemirror_mode": {
    "name": "ipython",
    "version": 3
   },
   "file_extension": ".py",
   "mimetype": "text/x-python",
   "name": "python",
   "nbconvert_exporter": "python",
   "pygments_lexer": "ipython3",
   "version": "3.12.5"
  }
 },
 "nbformat": 4,
 "nbformat_minor": 5
}
