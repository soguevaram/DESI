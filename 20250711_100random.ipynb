{
 "cells": [
  {
   "cell_type": "markdown",
   "id": "e0229d16-c228-438f-a6d2-bb45c35cd508",
   "metadata": {},
   "source": [
    "<h2 style=\"font-size:24pt\"> Proyecto DESI</h2>\n",
    "\n",
    "<h2 style=\"font-size:24pt\"> Julio 10, 2025</h2>\n",
    "\n",
    "<p style=\"font-size:16pt\">\n",
    "For each rosette, 100 random data samples are saved."
   ]
  },
  {
   "cell_type": "code",
   "execution_count": 66,
   "id": "fe5471a5-9298-4b08-a99e-c161df5ade6f",
   "metadata": {},
   "outputs": [],
   "source": [
    "from astropy.table import Table, vstack\n",
    "import pandas as pd\n",
    "import numpy as np\n",
    "from astropy.cosmology import Planck18\n",
    "from astropy.coordinates import SkyCoord\n",
    "from astropy import units as u\n",
    "from astropy.io import ascii"
   ]
  },
  {
   "cell_type": "markdown",
   "id": "64be1995-c10b-4dbe-a5de-2509e3bc9634",
   "metadata": {},
   "source": [
    "## Real data"
   ]
  },
  {
   "cell_type": "code",
   "execution_count": 34,
   "id": "98c246c6-f658-42f0-abcd-ee8aee10a32f",
   "metadata": {},
   "outputs": [],
   "source": [
    "data_n = Table.read(\"https://data.desi.lbl.gov/public/edr/vac/edr/lss/v2.0/LSScats/clustering/LRG_N_clustering.dat.fits\")\n",
    "data_s = Table.read(\"https://data.desi.lbl.gov/public/edr/vac/edr/lss/v2.0/LSScats/clustering/LRG_S_clustering.dat.fits\")\n",
    "\n",
    "names_n = [name for name in data_n.colnames if len(data_n[name].shape) <= 1]\n",
    "names_s = [name for name in data_n.colnames if len(data_n[name].shape) <= 1]\n",
    "\n",
    "data_n_filt = data_n[names_n].to_pandas()\n",
    "data_s_filt = data_s[names_s].to_pandas()"
   ]
  },
  {
   "cell_type": "code",
   "execution_count": 37,
   "id": "643247ce-aea5-4a26-93d3-b4dde8ef4c7d",
   "metadata": {},
   "outputs": [],
   "source": [
    "sizes_n = {}\n",
    "for i in set(data_n_filt['ROSETTE_NUMBER']):\n",
    "    df_rosette = data_n_filt[data_n_filt['ROSETTE_NUMBER']==i]\n",
    "    sizes_n[i] = len(df_rosette)\n",
    "\n",
    "sizes_s = {}\n",
    "for i in set(data_s_filt['ROSETTE_NUMBER']):\n",
    "    df_rosette = data_s_filt[data_s_filt['ROSETTE_NUMBER']==i]\n",
    "    sizes_s[i] = len(df_rosette)"
   ]
  },
  {
   "cell_type": "markdown",
   "id": "ffe34507-2501-41d5-9cde-a1234de05ee9",
   "metadata": {},
   "source": [
    "## Random"
   ]
  },
  {
   "cell_type": "code",
   "execution_count": 53,
   "id": "3359bd21-5314-49e6-bbe7-876b9631dfc1",
   "metadata": {},
   "outputs": [],
   "source": [
    "list_rand = list(range(18))\n",
    "tables_n = []\n",
    "\n",
    "for i in list_rand:\n",
    "    url = f\"https://data.desi.lbl.gov/public/edr/vac/edr/lss/v2.0/LSScats/clustering/LRG_N_{i}_clustering.ran.fits\"\n",
    "    table = Table.read(url)\n",
    "    tables_n.append(table)\n",
    "    \n",
    "rand_table_n = vstack(tables_n)"
   ]
  },
  {
   "cell_type": "code",
   "execution_count": 102,
   "id": "9799fe62-9650-4814-9d18-f65f0f62408b",
   "metadata": {},
   "outputs": [],
   "source": [
    "list_rand = list(range(18))\n",
    "tables_s = []\n",
    "\n",
    "for i in list_rand:\n",
    "    url = f\"https://data.desi.lbl.gov/public/edr/vac/edr/lss/v2.0/LSScats/clustering/LRG_S_{i}_clustering.ran.fits\"\n",
    "    table = Table.read(url)\n",
    "    tables_s.append(table)\n",
    "\n",
    "rand_table_s = vstack(tables_s)"
   ]
  },
  {
   "cell_type": "code",
   "execution_count": 59,
   "id": "669e9470-ceff-4009-8ccf-76af987bc5ae",
   "metadata": {},
   "outputs": [],
   "source": [
    "def cartesianas(data):\n",
    "    data['distance'] = Planck18.comoving_distance(data['Z'])\n",
    "    coords = SkyCoord(ra=data['RA'], dec=data['DEC'], distance=data['distance'], frame='icrs')\n",
    "    data['x'] = coords.cartesian.x.value\n",
    "    data['y'] = coords.cartesian.y.value\n",
    "    data['z'] = coords.cartesian.z.value\n",
    "\n",
    "    data['x'] = data['x'] * u.Mpc\n",
    "    data['y'] = data['y'] * u.Mpc\n",
    "    data['z'] = data['z'] * u.Mpc"
   ]
  },
  {
   "cell_type": "code",
   "execution_count": 104,
   "id": "7db09637-10d0-45da-9dcf-777c5f71b14b",
   "metadata": {},
   "outputs": [],
   "source": [
    "def save_file(data, rand, sizes, n_random=100):\n",
    "\n",
    "    rosettes = np.unique(data['ROSETTE_NUMBER'])\n",
    "\n",
    "    for i in rosettes:\n",
    "        rand_table_rosette = rand[rand['ROSETTE_NUMBER'] == i]\n",
    "\n",
    "        for j in range(n_random):\n",
    "            idx_random = np.random.choice(len(rand_table_rosette), size=sizes[i], replace=False)\n",
    "            rand_subset = rand_table_rosette[idx_random]\n",
    "\n",
    "            cartesianas(rand_subset)\n",
    "\n",
    "            filename_rand = f\"rand_rosette/LRG_rosette_{i}_random_{j}.ecsv\"\n",
    "            ascii.write(rand_subset, filename_rand, format='ecsv', overwrite=True)"
   ]
  },
  {
   "cell_type": "code",
   "execution_count": 87,
   "id": "b31df83b-4ba0-42ed-952d-7aa0d66a85c9",
   "metadata": {},
   "outputs": [],
   "source": [
    "save_file(data_n_filt,rand_table_n,sizes_n)"
   ]
  },
  {
   "cell_type": "code",
   "execution_count": 105,
   "id": "c505e8f7-92ce-4661-bf69-d90193b105fc",
   "metadata": {},
   "outputs": [],
   "source": [
    "save_file(data_s_filt,rand_table_s,sizes_s)"
   ]
  }
 ],
 "metadata": {
  "kernelspec": {
   "display_name": "Python 3 (ipykernel)",
   "language": "python",
   "name": "python3"
  },
  "language_info": {
   "codemirror_mode": {
    "name": "ipython",
    "version": 3
   },
   "file_extension": ".py",
   "mimetype": "text/x-python",
   "name": "python",
   "nbconvert_exporter": "python",
   "pygments_lexer": "ipython3",
   "version": "3.12.5"
  }
 },
 "nbformat": 4,
 "nbformat_minor": 5
}
