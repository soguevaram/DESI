{
 "cells": [
  {
   "cell_type": "markdown",
   "id": "44f33a03",
   "metadata": {},
   "source": [
    "<h2 style=\"font-size:24pt\"> Proyecto DESI</h2>\n",
    "\n",
    "<h2 style=\"font-size:24pt\"> Julio 11, 2025</h2>\n",
    "\n",
    "<p style=\"font-size:16pt\">\n",
    "ID connections of each ID according to the triangulation"
   ]
  },
  {
   "cell_type": "code",
   "execution_count": null,
   "id": "e5c59949",
   "metadata": {},
   "outputs": [],
   "source": [
    "import numpy as np\n",
    "import matplotlib.tri as mtri\n",
    "from scipy.spatial import Delaunay\n",
    "import matplotlib.pyplot as plt\n",
    "from astropy.table import Table\n",
    "import pandas as pd\n",
    "import networkx as nx\n",
    "import scipy\n",
    "import seaborn as sns\n",
    "from scipy.stats import norm\n",
    "from mpl_toolkits.mplot3d import Axes3D \n",
    "from sklearn.decomposition import PCA\n",
    "from functools import reduce\n",
    "import glob\n",
    "from concurrent.futures import ThreadPoolExecutor, as_completed\n",
    "import re\n",
    "from astropy.io import ascii\n",
    "from itertools import combinations\n",
    "from concurrent.futures import ProcessPoolExecutor\n",
    "from functools import partial"
   ]
  },
  {
   "cell_type": "code",
   "execution_count": 4,
   "id": "587274ad",
   "metadata": {},
   "outputs": [
    {
     "name": "stdout",
     "output_type": "stream",
     "text": [
      "CPU times: total: 7.84 s\n",
      "Wall time: 9.97 s\n"
     ]
    }
   ],
   "source": [
    "%%time\n",
    "rosettes = list(range(20))\n",
    "data = {}\n",
    "\n",
    "for number_rosette in range(20):\n",
    "    file = f\"data_rosette/LRG_{number_rosette}_clustering_data.ecsv\"\n",
    "    table = Table.read(file, format=\"ascii.ecsv\") \n",
    "    subset = table[['TARGETID','RA', 'DEC', 'Z','x','y','z']].to_pandas()\n",
    "    data[f\"data_{number_rosette}\"] = subset\n",
    "    data[f\"data_{number_rosette}\"]['type'] = 'data'"
   ]
  },
  {
   "cell_type": "code",
   "execution_count": 31,
   "id": "8d935054",
   "metadata": {},
   "outputs": [],
   "source": [
    "def compute_r(df, verbose=False, return_as_string=True):\n",
    "    coords = df[['x', 'y', 'z']].values\n",
    "    ids = df['TARGETID'].values\n",
    "    types = df['type'].values\n",
    "    is_data = (types == 'data')\n",
    "\n",
    "    tri = Delaunay(coords)\n",
    "\n",
    "    neighbors = {i: set() for i in range(len(coords))}\n",
    "    for simplex in tri.simplices:\n",
    "        for i, j in combinations(simplex, 2):\n",
    "            neighbors[i].add(j)\n",
    "            neighbors[j].add(i)\n",
    "\n",
    "    r = np.zeros(len(coords), dtype=float)\n",
    "    neighbor_ids_data = []\n",
    "    neighbor_ids_rand = []\n",
    "\n",
    "    for i, nbrs in neighbors.items():\n",
    "        nbrs = list(nbrs)\n",
    "\n",
    "        n_data = int(np.sum(is_data[nbrs]))\n",
    "        n_rand = len(nbrs) - n_data\n",
    "\n",
    "        if (n_data + n_rand) > 0:\n",
    "            r[i] = (n_data - n_rand) / (n_data + n_rand)\n",
    "        else:\n",
    "            raise ValueError(f'No neighbors for point {i} en la triangulación.')\n",
    "\n",
    "        # Separar vecinos por tipo\n",
    "        data_ids = ids[nbrs][is_data[nbrs]]\n",
    "        rand_ids = ids[nbrs][~is_data[nbrs]]\n",
    "\n",
    "        if return_as_string:\n",
    "            neighbor_ids_data.append(','.join(map(str, data_ids)))\n",
    "            neighbor_ids_rand.append(','.join(map(str, rand_ids)))\n",
    "        else:\n",
    "            neighbor_ids_data.append(data_ids.tolist())\n",
    "            neighbor_ids_rand.append(rand_ids.tolist())\n",
    "\n",
    "        if verbose:\n",
    "            print(f\"TID {ids[i]} → data: {data_ids}, rand: {rand_ids}\")\n",
    "\n",
    "    out = df.copy()\n",
    "    out['r'] = r\n",
    "    out['neighbor_ids_data'] = neighbor_ids_data\n",
    "    out['neighbor_ids_rand'] = neighbor_ids_rand\n",
    "    \n",
    "    return out"
   ]
  },
  {
   "cell_type": "code",
   "execution_count": 7,
   "id": "bf84490f",
   "metadata": {},
   "outputs": [],
   "source": [
    "def classification(data,number_rand):\n",
    "\n",
    "    data.loc[(data['r'] >= -1.0) & (data['r'] <= -0.9), f'class_{number_rand}'] = 'void'\n",
    "    data.loc[(data['r'] >  -0.9) & (data['r'] <=  0.0), f'class_{number_rand}'] = 'sheet'\n",
    "    data.loc[(data['r'] >   0.0) & (data['r'] <=  0.9), f'class_{number_rand}'] = 'filament'\n",
    "    data.loc[(data['r'] >   0.9) & (data['r'] <=  1.0), f'class_{number_rand}'] = 'knot'\n",
    "\n",
    "    data.sort_values('z', inplace=True)\n",
    "\n",
    "    return data"
   ]
  },
  {
   "cell_type": "code",
   "execution_count": 32,
   "id": "df036113",
   "metadata": {},
   "outputs": [
    {
     "name": "stdout",
     "output_type": "stream",
     "text": [
      "Rosette 0\n",
      "CPU times: total: 4min 46s\n",
      "Wall time: 4min 56s\n"
     ]
    }
   ],
   "source": [
    "%%time\n",
    "rand = {}\n",
    "rand_list = {}\n",
    "df_merge = {}\n",
    "df_entropy = {}\n",
    "number_random = 100\n",
    "\n",
    "for i in range(1):\n",
    "    rand_list[i] = []\n",
    "    print(f'Rosette {i}')\n",
    "    for j in range(number_random):\n",
    "\n",
    "        #Read files\n",
    "        file = f'rand_rosette/LRG_rosette_{i}_random_{j}.ecsv'\n",
    "        table = Table.read(file, format=\"ascii.ecsv\") \n",
    "        subset = table[['TARGETID', 'RA', 'DEC', 'Z', 'x', 'y', 'z']].to_pandas()\n",
    "        subset['type'] = 'rand'\n",
    "\n",
    "        #Concat real and random data\n",
    "        df_concat = pd.concat([subset, data[f'data_{i}'].copy().assign(type='data')], ignore_index=True)\n",
    "\n",
    "        #Parameter r and classification\n",
    "        #data_with_r = parameter_r(df_concat)\n",
    "        data_with_r = compute_r(df_concat)\n",
    "        data_with_class = classification(data_with_r, j)\n",
    "        \n",
    "        rand_list[i].append(data_with_class)\n",
    "        \n",
    "        #Neighbor connections\n",
    "        table_connection = Table.from_pandas(data_with_class)\n",
    "        filename_connection = f\"connections_rosette/LRG_connection_rosette_{i}_rand_{j}.ecsv\"\n",
    "        ascii.write(table_connection, filename_connection, format='ecsv', overwrite=True)"
   ]
  },
  {
   "cell_type": "markdown",
   "id": "e0f25bc5",
   "metadata": {},
   "source": []
  }
 ],
 "metadata": {
  "kernelspec": {
   "display_name": "base",
   "language": "python",
   "name": "python3"
  },
  "language_info": {
   "codemirror_mode": {
    "name": "ipython",
    "version": 3
   },
   "file_extension": ".py",
   "mimetype": "text/x-python",
   "name": "python",
   "nbconvert_exporter": "python",
   "pygments_lexer": "ipython3",
   "version": "3.12.7"
  }
 },
 "nbformat": 4,
 "nbformat_minor": 5
}
