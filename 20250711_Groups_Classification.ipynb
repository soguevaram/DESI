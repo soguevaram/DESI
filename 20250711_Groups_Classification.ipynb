{
 "cells": [
  {
   "cell_type": "markdown",
   "id": "9734210b",
   "metadata": {},
   "source": [
    "<h2 style=\"font-size:24pt\"> Proyecto DESI</h2>\n",
    "\n",
    "<h2 style=\"font-size:24pt\"> Julio 11, 2025</h2>\n",
    "\n",
    "<p style=\"font-size:16pt\">\n",
    "Classification groups: filaments with real data, knots with real data, and voids with random data."
   ]
  },
  {
   "cell_type": "code",
   "execution_count": 2,
   "id": "07e979ab",
   "metadata": {},
   "outputs": [],
   "source": [
    "import numpy as np\n",
    "import matplotlib.pyplot as plt\n",
    "from astropy.table import Table\n",
    "import pandas as pd\n",
    "import re\n",
    "from astropy.io import ascii"
   ]
  },
  {
   "cell_type": "code",
   "execution_count": 3,
   "id": "4c29e190",
   "metadata": {},
   "outputs": [],
   "source": [
    "connections = {}\n",
    "for j in range(100):\n",
    "    file = f\"connections_rosette/LRG_connection_rosette_{0}_rand_{j}.ecsv\"\n",
    "    table = Table.read(file, format=\"ascii.ecsv\")\n",
    "    connection = table[['TARGETID','type', f'class_{j}','neighbor_ids_data','neighbor_ids_rand']]\n",
    "    connections[f'rosetta_{i}_random_{j}'] = connection"
   ]
  },
  {
   "cell_type": "code",
   "execution_count": null,
   "id": "ecd54e2b",
   "metadata": {},
   "outputs": [],
   "source": [
    "def func_connections(df, classification, type_data, i, j):\n",
    "    id_to_type = dict(zip(df['TARGETID'], df['type']))\n",
    "    id_to_class = dict(zip(df['TARGETID'], df[f'class_{j}']))\n",
    "\n",
    "    # Filtrar solo los que son tipo 'data' y clase correspondiente\n",
    "    mask_data_class = (df['type'] == 'data') & (df[f'class_{j}'] == classification)\n",
    "    df_data_class = df[mask_data_class].copy().to_pandas()\n",
    "\n",
    "    # Diccionario de conexiones\n",
    "    data_class_connections = {}\n",
    "\n",
    "    for index, row in df_data_class.iterrows():\n",
    "        center_id = row['TARGETID']\n",
    "        neighbor_str = row.get(f'neighbor_ids_{type_data}', '')\n",
    "\n",
    "        # Omitir si está vacío, nulo o contiene '--'\n",
    "        if pd.isna(neighbor_str) or neighbor_str.strip() in {'--', ''}:\n",
    "            continue\n",
    "\n",
    "        # Convertir vecinos a enteros válidos\n",
    "        neighbors = [int(x) for x in neighbor_str.split(',') if x.strip().isdigit()]\n",
    "\n",
    "        # Filtrar vecinos que también sean del tipo y clase deseados\n",
    "        valid_neighbors = [\n",
    "            n for n in neighbors\n",
    "            if id_to_type.get(n) == type_data and id_to_class.get(n) == classification\n",
    "        ]\n",
    "        data_class_connections[center_id] = valid_neighbors\n",
    "\n",
    "    # Crear DataFrame con conexiones\n",
    "    rows = [(center, neighbor) for center, neighbors in data_class_connections.items() for neighbor in neighbors]\n",
    "    df_connections = pd.DataFrame(rows, columns=[\"TARGETID\", f\"TARGETID_{classification}\"])\n",
    "    \n",
    "    # Guardar como tabla ECSV\n",
    "    table_connections = Table.from_pandas(df_connections)\n",
    "    filename = f\"{classification}_rosette/LRG_{classification}_rosette_{i}_random_{j}.ecsv\"\n",
    "    ascii.write(table_connections, filename, format='ecsv', overwrite=True)\n"
   ]
  },
  {
   "cell_type": "code",
   "execution_count": 19,
   "id": "c0205eb2",
   "metadata": {},
   "outputs": [
    {
     "name": "stdout",
     "output_type": "stream",
     "text": [
      "CPU times: total: 49.8 s\n",
      "Wall time: 59.9 s\n"
     ]
    }
   ],
   "source": [
    "%%time\n",
    "for j in range(100):\n",
    "    func_connections(connections[f'rosetta_0_random_{j}'],'filament','data',i,j)"
   ]
  },
  {
   "cell_type": "code",
   "execution_count": 38,
   "id": "c5db5247",
   "metadata": {},
   "outputs": [
    {
     "name": "stdout",
     "output_type": "stream",
     "text": [
      "CPU times: total: 4.98 s\n",
      "Wall time: 5.2 s\n"
     ]
    }
   ],
   "source": [
    "%%time\n",
    "for i in range(100):\n",
    "    func_connections(connections[f'rosetta_0_random_{j}'],'knot','data',i,j)"
   ]
  },
  {
   "cell_type": "code",
   "execution_count": 39,
   "id": "4dd4ff46",
   "metadata": {},
   "outputs": [
    {
     "name": "stdout",
     "output_type": "stream",
     "text": [
      "CPU times: total: 6.28 s\n",
      "Wall time: 6.67 s\n"
     ]
    }
   ],
   "source": [
    "%%time\n",
    "for i in range(100):\n",
    "    func_connections(connections[f'rosetta_0_random_{j}'],'void','rand',i,j)"
   ]
  }
 ],
 "metadata": {
  "kernelspec": {
   "display_name": "base",
   "language": "python",
   "name": "python3"
  },
  "language_info": {
   "codemirror_mode": {
    "name": "ipython",
    "version": 3
   },
   "file_extension": ".py",
   "mimetype": "text/x-python",
   "name": "python",
   "nbconvert_exporter": "python",
   "pygments_lexer": "ipython3",
   "version": "3.12.7"
  }
 },
 "nbformat": 4,
 "nbformat_minor": 5
}
