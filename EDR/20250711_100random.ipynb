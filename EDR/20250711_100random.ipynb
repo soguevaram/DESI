{
 "cells": [
  {
   "cell_type": "markdown",
   "id": "e0229d16-c228-438f-a6d2-bb45c35cd508",
   "metadata": {},
   "source": [
    "<h2 style=\"font-size:24pt\"> Proyecto DESI</h2>\n",
    "\n",
    "<h2 style=\"font-size:24pt\"> Julio 10, 2025</h2>\n",
    "\n",
    "<p style=\"font-size:16pt\">\n",
    "For each rosette, 100 random data samples are saved."
   ]
  },
  {
   "cell_type": "code",
   "execution_count": 1,
   "id": "fe5471a5-9298-4b08-a99e-c161df5ade6f",
   "metadata": {},
   "outputs": [],
   "source": [
    "from astropy.table import Table, vstack\n",
    "import pandas as pd\n",
    "import numpy as np\n",
    "from astropy.cosmology import Planck18\n",
    "from astropy.coordinates import SkyCoord\n",
    "from astropy import units as u\n",
    "from astropy.io import ascii"
   ]
  },
  {
   "cell_type": "markdown",
   "id": "64be1995-c10b-4dbe-a5de-2509e3bc9634",
   "metadata": {},
   "source": [
    "## Real data"
   ]
  },
  {
   "cell_type": "code",
   "execution_count": 2,
   "id": "98c246c6-f658-42f0-abcd-ee8aee10a32f",
   "metadata": {},
   "outputs": [],
   "source": [
    "data_n = Table.read(\"https://data.desi.lbl.gov/public/edr/vac/edr/lss/v2.0/LSScats/clustering/LRG_N_clustering.dat.fits\")\n",
    "data_s = Table.read(\"https://data.desi.lbl.gov/public/edr/vac/edr/lss/v2.0/LSScats/clustering/LRG_S_clustering.dat.fits\")\n",
    "\n",
    "names_n = [name for name in data_n.colnames if len(data_n[name].shape) <= 1]\n",
    "names_s = [name for name in data_n.colnames if len(data_n[name].shape) <= 1]\n",
    "\n",
    "data_n_filt = data_n[names_n].to_pandas()\n",
    "data_s_filt = data_s[names_s].to_pandas()"
   ]
  },
  {
   "cell_type": "code",
   "execution_count": 3,
   "id": "643247ce-aea5-4a26-93d3-b4dde8ef4c7d",
   "metadata": {},
   "outputs": [],
   "source": [
    "sizes_n = {}\n",
    "for i in set(data_n_filt['ROSETTE_NUMBER']):\n",
    "    df_rosette = data_n_filt[data_n_filt['ROSETTE_NUMBER']==i]\n",
    "    sizes_n[i] = len(df_rosette)\n",
    "\n",
    "sizes_s = {}\n",
    "for i in set(data_s_filt['ROSETTE_NUMBER']):\n",
    "    df_rosette = data_s_filt[data_s_filt['ROSETTE_NUMBER']==i]\n",
    "    sizes_s[i] = len(df_rosette)"
   ]
  },
  {
   "cell_type": "code",
   "execution_count": 16,
   "id": "bc2e2ef5-2cb8-4ab7-bf00-756204be6b16",
   "metadata": {},
   "outputs": [
    {
     "data": {
      "text/plain": [
       "{0, 1, 2, 4, 5, 8, 9, 10, 16, 17}"
      ]
     },
     "execution_count": 16,
     "metadata": {},
     "output_type": "execute_result"
    }
   ],
   "source": [
    "set(data_s_filt['ROSETTE_NUMBER'])"
   ]
  },
  {
   "cell_type": "markdown",
   "id": "ffe34507-2501-41d5-9cde-a1234de05ee9",
   "metadata": {},
   "source": [
    "## Random"
   ]
  },
  {
   "cell_type": "code",
   "execution_count": 5,
   "id": "669e9470-ceff-4009-8ccf-76af987bc5ae",
   "metadata": {},
   "outputs": [],
   "source": [
    "def cartesianas(data):\n",
    "    data['distance'] = Planck18.comoving_distance(data['Z'])\n",
    "    coords = SkyCoord(ra=data['RA'], dec=data['DEC'], distance=data['distance'], frame='icrs')\n",
    "    data['x'] = coords.cartesian.x.value\n",
    "    data['y'] = coords.cartesian.y.value\n",
    "    data['z'] = coords.cartesian.z.value\n",
    "\n",
    "    data['x'] = data['x'] * u.Mpc\n",
    "    data['y'] = data['y'] * u.Mpc\n",
    "    data['z'] = data['z'] * u.Mpc"
   ]
  },
  {
   "cell_type": "code",
   "execution_count": 12,
   "id": "7db09637-10d0-45da-9dcf-777c5f71b14b",
   "metadata": {},
   "outputs": [],
   "source": [
    "def url(rand_generator, orientation):\n",
    "    if orientation == 'N':\n",
    "        urls = [\n",
    "            f\"https://data.desi.lbl.gov/public/edr/vac/edr/lss/v2.0/LSScats/clustering/LRG_N_{i}_clustering.ran.fits\"\n",
    "            for i in range(18)\n",
    "        ]\n",
    "    elif orientation == 'S':\n",
    "        urls = [\n",
    "            f\"https://data.desi.lbl.gov/public/edr/vac/edr/lss/v2.0/LSScats/clustering/LRG_S_{i}_clustering.ran.fits\"\n",
    "            for i in range(18)\n",
    "        ]\n",
    "    url = rand_generator.choice(urls)\n",
    "    rand = Table.read(url)\n",
    "    return rand\n",
    "\n",
    "def save_file(data, sizes, orientation, n_random=100, seed=42):\n",
    "    \n",
    "    rosettes = np.unique(data['ROSETTE_NUMBER'])\n",
    "    rng = np.random.default_rng(seed) \n",
    "    rand = url(rng,orientation)\n",
    "    \n",
    "    for i in rosettes:\n",
    "        rand_table_rosette = rand[rand['ROSETTE_NUMBER'] == i]\n",
    "    \n",
    "        for j in range(n_random):\n",
    "            rng_j = np.random.default_rng(seed + i * 100 + j)\n",
    "            idx_random = rng_j.choice(len(rand_table_rosette), size=sizes[i], replace=False)\n",
    "            rand_subset = rand_table_rosette[idx_random]\n",
    "    \n",
    "            cartesianas(rand_subset)\n",
    "    \n",
    "            filename_rand = f\"rand_rosette/LRG_rosette_{i}_random_{j}.ecsv\"\n",
    "            ascii.write(rand_subset, filename_rand, format='ecsv', overwrite=True)"
   ]
  },
  {
   "cell_type": "code",
   "execution_count": 13,
   "id": "b31df83b-4ba0-42ed-952d-7aa0d66a85c9",
   "metadata": {},
   "outputs": [
    {
     "name": "stdout",
     "output_type": "stream",
     "text": [
      "CPU times: total: 7min 38s\n",
      "Wall time: 8min 3s\n"
     ]
    }
   ],
   "source": [
    "%%time\n",
    "save_file(data_n_filt,sizes_n,'N')"
   ]
  },
  {
   "cell_type": "code",
   "execution_count": 14,
   "id": "c505e8f7-92ce-4661-bf69-d90193b105fc",
   "metadata": {},
   "outputs": [
    {
     "name": "stdout",
     "output_type": "stream",
     "text": [
      "CPU times: total: 6min 35s\n",
      "Wall time: 6min 50s\n"
     ]
    }
   ],
   "source": [
    "%%time\n",
    "save_file(data_s_filt,sizes_s,'S')"
   ]
  }
 ],
 "metadata": {
  "kernelspec": {
   "display_name": "Python 3 (ipykernel)",
   "language": "python",
   "name": "python3"
  },
  "language_info": {
   "codemirror_mode": {
    "name": "ipython",
    "version": 3
   },
   "file_extension": ".py",
   "mimetype": "text/x-python",
   "name": "python",
   "nbconvert_exporter": "python",
   "pygments_lexer": "ipython3",
   "version": "3.12.5"
  }
 },
 "nbformat": 4,
 "nbformat_minor": 5
}
